{
 "cells": [
  {
   "cell_type": "code",
   "execution_count": 1,
   "id": "ffa6e134",
   "metadata": {},
   "outputs": [],
   "source": [
    "import os\n",
    "os.environ['OPENAI_API_KEY'] = \"sk-\";"
   ]
  },
  {
   "cell_type": "code",
   "execution_count": 2,
   "id": "78169c1a",
   "metadata": {},
   "outputs": [
    {
     "name": "stderr",
     "output_type": "stream",
     "text": [
      "C:\\Users\\Haris Ellahi\\anaconda3\\lib\\site-packages\\langchain_core\\_api\\deprecation.py:117: LangChainDeprecationWarning: The class `langchain_community.llms.openai.OpenAI` was deprecated in langchain-community 0.0.10 and will be removed in 0.2.0. An updated version of the class exists in the langchain-openai package and should be used instead. To use it run `pip install -U langchain-openai` and import as `from langchain_openai import OpenAI`.\n",
      "  warn_deprecated(\n",
      "C:\\Users\\Haris Ellahi\\anaconda3\\lib\\site-packages\\langchain_core\\_api\\deprecation.py:117: LangChainDeprecationWarning: The function `__call__` was deprecated in LangChain 0.1.7 and will be removed in 0.2.0. Use invoke instead.\n",
      "  warn_deprecated(\n"
     ]
    },
    {
     "name": "stdout",
     "output_type": "stream",
     "text": [
      "\n",
      "\n",
      "Machine learning is a subset of artificial intelligence that involves the use of algorithms and statistical models to enable computers to learn from data and make predictions or decisions without being explicitly programmed. It is based on the idea that systems can automatically learn and improve from experience, without being explicitly programmed to do so. Machine learning techniques are used in a variety of applications, such as image and speech recognition, natural language processing, and predictive analytics. It is a rapidly growing field with many practical applications in various industries. \n"
     ]
    }
   ],
   "source": [
    "from langchain.llms import OpenAI\n",
    "llm = OpenAI(temperature=0.6)\n",
    "name = llm(\"What is machine learning\")\n",
    "print(name)"
   ]
  },
  {
   "cell_type": "code",
   "execution_count": 3,
   "id": "27af54f5",
   "metadata": {},
   "outputs": [
    {
     "name": "stderr",
     "output_type": "stream",
     "text": [
      "C:\\Users\\Haris Ellahi\\anaconda3\\lib\\site-packages\\langchain_core\\_api\\deprecation.py:117: LangChainDeprecationWarning: The function `run` was deprecated in LangChain 0.1.0 and will be removed in 0.2.0. Use invoke instead.\n",
      "  warn_deprecated(\n"
     ]
    },
    {
     "name": "stdout",
     "output_type": "stream",
     "text": [
      "\n",
      "\n",
      "\n",
      "1. Can you walk us through your experience with software development life cycle and your role in it?\n",
      "2. How do you ensure accuracy and clarity in product design documentation?\n",
      "3. Can you give an example of a situation where you identified a bug during testing and how you resolved it?\n",
      "4. How do you stay updated on industry quality management systems and standards?\n",
      "5. Can you share your experience with conducting performance tests and how you analyze the results?\n",
      "6. How do you collaborate with stakeholders to resolve quality issues?\n",
      "7. Can you explain your approach to developing tools for testing efficiency and accuracy?\n",
      "8. How do you prioritize and manage multiple tasks and projects in a fast-paced environment?\n",
      "9. Can you tell us about a successful project you worked on and your contributions to its success?\n",
      "10. How do you ensure compliance with quality management systems and standards throughout the development process?\n"
     ]
    }
   ],
   "source": [
    "from langchain.prompts import PromptTemplate\n",
    "from langchain.chains import LLMChain\n",
    "from langchain.memory import ConversationBufferMemory\n",
    "\n",
    "memory = ConversationBufferMemory()\n",
    "\n",
    "def get_questions(job_desc):\n",
    "    prompt_template_name = PromptTemplate(\n",
    "        input_variables = ['job_description'],\n",
    "        template = \"{job_description} \\n Suggest interview questions based on this job description and above resume\"\n",
    "    )\n",
    "    chain = LLMChain(llm = llm,prompt=prompt_template_name, memory=memory)\n",
    "    content = chain.run(job_desc)\n",
    "    print(content)\n",
    "\n",
    "job_desc = \"\"\"Ensure accuracy and clarity of product design documentation, recommending improvements throughout development for better outcomes.\n",
    "    Establish test methods and craft comprehensive plans for software projects, assessing performance under various conditions to guarantee reliability.\n",
    "    Proactively monitor program performance post-implementation, preventing operational issues from recurring, ensuring seamless operation.\n",
    "    Actively engage in the software development life cycle, promptly reporting and resolving bugs to maintain project integrity.\n",
    "    Ensure compliance with Quality Management systems and standards, while also developing tools to enhance testing efficiency and accuracy.\n",
    "    Provide support by verifying fixture software, facilitate transitions from testing to production, collaborate with stakeholders, resolving quality issues promptly to uphold standards and safety.\"\"\"\n",
    "\n",
    "get_questions(job_desc)"
   ]
  },
  {
   "cell_type": "code",
   "execution_count": 4,
   "id": "79aabf45",
   "metadata": {},
   "outputs": [
    {
     "name": "stdout",
     "output_type": "stream",
     "text": [
      "Requirement already satisfied: langchain in c:\\users\\haris ellahi\\anaconda3\\lib\\site-packages (0.1.7)\n",
      "Requirement already satisfied: jsonpatch<2.0,>=1.33 in c:\\users\\haris ellahi\\anaconda3\\lib\\site-packages (from langchain) (1.33)\n",
      "Requirement already satisfied: PyYAML>=5.3 in c:\\users\\haris ellahi\\anaconda3\\lib\\site-packages (from langchain) (6.0)\n",
      "Requirement already satisfied: aiohttp<4.0.0,>=3.8.3 in c:\\users\\haris ellahi\\anaconda3\\lib\\site-packages (from langchain) (3.9.3)\n",
      "Requirement already satisfied: numpy<2,>=1 in c:\\users\\haris ellahi\\anaconda3\\lib\\site-packages (from langchain) (1.23.5)\n",
      "Requirement already satisfied: tenacity<9.0.0,>=8.1.0 in c:\\users\\haris ellahi\\anaconda3\\lib\\site-packages (from langchain) (8.2.3)\n",
      "Requirement already satisfied: async-timeout<5.0.0,>=4.0.0 in c:\\users\\haris ellahi\\anaconda3\\lib\\site-packages (from langchain) (4.0.3)\n",
      "Requirement already satisfied: SQLAlchemy<3,>=1.4 in c:\\users\\haris ellahi\\anaconda3\\lib\\site-packages (from langchain) (2.0.27)\n",
      "Requirement already satisfied: langchain-community<0.1,>=0.0.20 in c:\\users\\haris ellahi\\anaconda3\\lib\\site-packages (from langchain) (0.0.20)\n",
      "Requirement already satisfied: langchain-core<0.2,>=0.1.22 in c:\\users\\haris ellahi\\anaconda3\\lib\\site-packages (from langchain) (0.1.23)\n",
      "Requirement already satisfied: langsmith<0.1,>=0.0.83 in c:\\users\\haris ellahi\\anaconda3\\lib\\site-packages (from langchain) (0.0.87)\n",
      "Requirement already satisfied: pydantic<3,>=1 in c:\\users\\haris ellahi\\anaconda3\\lib\\site-packages (from langchain) (2.6.1)\n",
      "Requirement already satisfied: requests<3,>=2 in c:\\users\\haris ellahi\\anaconda3\\lib\\site-packages (from langchain) (2.28.1)\n",
      "Requirement already satisfied: dataclasses-json<0.7,>=0.5.7 in c:\\users\\haris ellahi\\anaconda3\\lib\\site-packages (from langchain) (0.6.4)\n",
      "Requirement already satisfied: aiosignal>=1.1.2 in c:\\users\\haris ellahi\\anaconda3\\lib\\site-packages (from aiohttp<4.0.0,>=3.8.3->langchain) (1.3.1)\n",
      "Requirement already satisfied: attrs>=17.3.0 in c:\\users\\haris ellahi\\anaconda3\\lib\\site-packages (from aiohttp<4.0.0,>=3.8.3->langchain) (22.1.0)\n",
      "Requirement already satisfied: multidict<7.0,>=4.5 in c:\\users\\haris ellahi\\anaconda3\\lib\\site-packages (from aiohttp<4.0.0,>=3.8.3->langchain) (6.0.5)\n",
      "Requirement already satisfied: frozenlist>=1.1.1 in c:\\users\\haris ellahi\\anaconda3\\lib\\site-packages (from aiohttp<4.0.0,>=3.8.3->langchain) (1.4.1)\n",
      "Requirement already satisfied: yarl<2.0,>=1.0 in c:\\users\\haris ellahi\\anaconda3\\lib\\site-packages (from aiohttp<4.0.0,>=3.8.3->langchain) (1.9.4)\n",
      "Requirement already satisfied: marshmallow<4.0.0,>=3.18.0 in c:\\users\\haris ellahi\\anaconda3\\lib\\site-packages (from dataclasses-json<0.7,>=0.5.7->langchain) (3.20.2)\n",
      "Requirement already satisfied: typing-inspect<1,>=0.4.0 in c:\\users\\haris ellahi\\anaconda3\\lib\\site-packages (from dataclasses-json<0.7,>=0.5.7->langchain) (0.9.0)\n",
      "Requirement already satisfied: jsonpointer>=1.9 in c:\\users\\haris ellahi\\anaconda3\\lib\\site-packages (from jsonpatch<2.0,>=1.33->langchain) (2.1)\n",
      "Requirement already satisfied: anyio<5,>=3 in c:\\users\\haris ellahi\\anaconda3\\lib\\site-packages (from langchain-core<0.2,>=0.1.22->langchain) (3.5.0)\n",
      "Requirement already satisfied: packaging<24.0,>=23.2 in c:\\users\\haris ellahi\\anaconda3\\lib\\site-packages (from langchain-core<0.2,>=0.1.22->langchain) (23.2)\n",
      "Requirement already satisfied: annotated-types>=0.4.0 in c:\\users\\haris ellahi\\anaconda3\\lib\\site-packages (from pydantic<3,>=1->langchain) (0.6.0)\n",
      "Requirement already satisfied: typing-extensions>=4.6.1 in c:\\users\\haris ellahi\\anaconda3\\lib\\site-packages (from pydantic<3,>=1->langchain) (4.9.0)\n",
      "Requirement already satisfied: pydantic-core==2.16.2 in c:\\users\\haris ellahi\\anaconda3\\lib\\site-packages (from pydantic<3,>=1->langchain) (2.16.2)\n",
      "Requirement already satisfied: certifi>=2017.4.17 in c:\\users\\haris ellahi\\anaconda3\\lib\\site-packages (from requests<3,>=2->langchain) (2022.12.7)\n",
      "Requirement already satisfied: idna<4,>=2.5 in c:\\users\\haris ellahi\\anaconda3\\lib\\site-packages (from requests<3,>=2->langchain) (3.4)\n",
      "Requirement already satisfied: charset-normalizer<3,>=2 in c:\\users\\haris ellahi\\anaconda3\\lib\\site-packages (from requests<3,>=2->langchain) (2.0.4)\n",
      "Requirement already satisfied: urllib3<1.27,>=1.21.1 in c:\\users\\haris ellahi\\anaconda3\\lib\\site-packages (from requests<3,>=2->langchain) (1.26.14)\n",
      "Requirement already satisfied: greenlet!=0.4.17 in c:\\users\\haris ellahi\\anaconda3\\lib\\site-packages (from SQLAlchemy<3,>=1.4->langchain) (2.0.1)\n",
      "Requirement already satisfied: sniffio>=1.1 in c:\\users\\haris ellahi\\anaconda3\\lib\\site-packages (from anyio<5,>=3->langchain-core<0.2,>=0.1.22->langchain) (1.2.0)\n",
      "Requirement already satisfied: mypy-extensions>=0.3.0 in c:\\users\\haris ellahi\\anaconda3\\lib\\site-packages (from typing-inspect<1,>=0.4.0->dataclasses-json<0.7,>=0.5.7->langchain) (0.4.3)\n",
      "Requirement already satisfied: openai in c:\\users\\haris ellahi\\anaconda3\\lib\\site-packages (1.12.0)\n",
      "Requirement already satisfied: sniffio in c:\\users\\haris ellahi\\anaconda3\\lib\\site-packages (from openai) (1.2.0)\n",
      "Requirement already satisfied: distro<2,>=1.7.0 in c:\\users\\haris ellahi\\anaconda3\\lib\\site-packages (from openai) (1.9.0)\n",
      "Requirement already satisfied: tqdm>4 in c:\\users\\haris ellahi\\anaconda3\\lib\\site-packages (from openai) (4.64.1)\n",
      "Requirement already satisfied: httpx<1,>=0.23.0 in c:\\users\\haris ellahi\\anaconda3\\lib\\site-packages (from openai) (0.26.0)\n",
      "Requirement already satisfied: pydantic<3,>=1.9.0 in c:\\users\\haris ellahi\\anaconda3\\lib\\site-packages (from openai) (2.6.1)\n",
      "Requirement already satisfied: typing-extensions<5,>=4.7 in c:\\users\\haris ellahi\\anaconda3\\lib\\site-packages (from openai) (4.9.0)\n",
      "Requirement already satisfied: anyio<5,>=3.5.0 in c:\\users\\haris ellahi\\anaconda3\\lib\\site-packages (from openai) (3.5.0)\n",
      "Requirement already satisfied: idna>=2.8 in c:\\users\\haris ellahi\\anaconda3\\lib\\site-packages (from anyio<5,>=3.5.0->openai) (3.4)\n",
      "Requirement already satisfied: certifi in c:\\users\\haris ellahi\\anaconda3\\lib\\site-packages (from httpx<1,>=0.23.0->openai) (2022.12.7)\n",
      "Requirement already satisfied: httpcore==1.* in c:\\users\\haris ellahi\\anaconda3\\lib\\site-packages (from httpx<1,>=0.23.0->openai) (1.0.3)\n",
      "Requirement already satisfied: h11<0.15,>=0.13 in c:\\users\\haris ellahi\\anaconda3\\lib\\site-packages (from httpcore==1.*->httpx<1,>=0.23.0->openai) (0.14.0)\n",
      "Requirement already satisfied: pydantic-core==2.16.2 in c:\\users\\haris ellahi\\anaconda3\\lib\\site-packages (from pydantic<3,>=1.9.0->openai) (2.16.2)\n",
      "Requirement already satisfied: annotated-types>=0.4.0 in c:\\users\\haris ellahi\\anaconda3\\lib\\site-packages (from pydantic<3,>=1.9.0->openai) (0.6.0)\n",
      "Requirement already satisfied: colorama in c:\\users\\haris ellahi\\anaconda3\\lib\\site-packages (from tqdm>4->openai) (0.4.6)\n",
      "Requirement already satisfied: PyPDF2 in c:\\users\\haris ellahi\\anaconda3\\lib\\site-packages (3.0.1)\n",
      "Requirement already satisfied: faiss-cpu in c:\\users\\haris ellahi\\anaconda3\\lib\\site-packages (1.7.4)\n",
      "Requirement already satisfied: tiktoken in c:\\users\\haris ellahi\\anaconda3\\lib\\site-packages (0.6.0)\n",
      "Requirement already satisfied: requests>=2.26.0 in c:\\users\\haris ellahi\\anaconda3\\lib\\site-packages (from tiktoken) (2.28.1)\n",
      "Requirement already satisfied: regex>=2022.1.18 in c:\\users\\haris ellahi\\anaconda3\\lib\\site-packages (from tiktoken) (2022.7.9)\n",
      "Requirement already satisfied: charset-normalizer<3,>=2 in c:\\users\\haris ellahi\\anaconda3\\lib\\site-packages (from requests>=2.26.0->tiktoken) (2.0.4)\n",
      "Requirement already satisfied: urllib3<1.27,>=1.21.1 in c:\\users\\haris ellahi\\anaconda3\\lib\\site-packages (from requests>=2.26.0->tiktoken) (1.26.14)\n",
      "Requirement already satisfied: certifi>=2017.4.17 in c:\\users\\haris ellahi\\anaconda3\\lib\\site-packages (from requests>=2.26.0->tiktoken) (2022.12.7)\n",
      "Requirement already satisfied: idna<4,>=2.5 in c:\\users\\haris ellahi\\anaconda3\\lib\\site-packages (from requests>=2.26.0->tiktoken) (3.4)\n"
     ]
    }
   ],
   "source": [
    "!pip install langchain\n",
    "!pip install openai\n",
    "!pip install PyPDF2\n",
    "!pip install faiss-cpu\n",
    "!pip install tiktoken"
   ]
  },
  {
   "cell_type": "code",
   "execution_count": 5,
   "id": "4f554b35",
   "metadata": {},
   "outputs": [],
   "source": [
    "from PyPDF2 import PdfReader\n",
    "from langchain.embeddings.openai import OpenAIEmbeddings\n",
    "from langchain.text_splitter import CharacterTextSplitter\n",
    "from langchain.vectorstores import FAISS"
   ]
  },
  {
   "cell_type": "code",
   "execution_count": 43,
   "id": "67469385",
   "metadata": {},
   "outputs": [
    {
     "name": "stdout",
     "output_type": "stream",
     "text": [
      "\n",
      "\n",
      "The resume belongs to Haris Ellahi, a computer science student from Gujranwala, Punjab, Pakistan. He is interested in learning new technologies, specifically in the fields of blockchain development, cryptocurrency, and DevOps. He possesses strong non-technical skills such as self-motivation, curiosity, interpersonal skills, punctuality, and strategic thinking.\n",
      "\n",
      "Education:\n",
      "- Haris is currently pursuing a Bachelor of Science in Computer Science from Gift University, expected to graduate in 2024.\n",
      "\n",
      "Projects:\n",
      "- Haris has worked on various projects such as Exam Ease System, Weather App, Ecommerce Website, and Courier Management System.\n",
      "- He has experience working with technologies such as Laravel, HTML, CSS, JavaScript, Bootstrap, Restful API, PHP, and MySQL.\n",
      "- He has also created repositories for his projects on GitHub.\n",
      "\n",
      "Skills:\n",
      "- Haris is proficient in programming languages such as Java, PHP, JavaScript, SQL, C, and Python.\n",
      "- He has experience in frontend development using HTML, CSS, and Bootstrap.\n",
      "- He is familiar with libraries like React, React Native, Axios, Numpy, Pandas, and Simpleai.\n",
      "- He also has experience working with frameworks such as Bootstrap and Laravel.\n",
      "- Haris is also knowledgeable in databases, specifically\n"
     ]
    }
   ],
   "source": [
    "from typing_extensions import Concatenate\n",
    "from langchain.chains.question_answering import load_qa_chain\n",
    "from langchain.llms import OpenAI\n",
    "\n",
    "# method that takes file as input and returns summary of input\n",
    "def get_summary_from_file(filename):\n",
    "    # provide the path of  pdf file/files.\n",
    "    pdfreader = PdfReader(filename)\n",
    "    # read text from pdf\n",
    "    raw_text = ''\n",
    "    for i, page in enumerate(pdfreader.pages):\n",
    "        content = page.extract_text()\n",
    "        if content:\n",
    "            raw_text += content\n",
    "    text_splitter = CharacterTextSplitter(\n",
    "        separator = \"\\n\",\n",
    "        chunk_size = 800,\n",
    "        chunk_overlap  = 200,\n",
    "        length_function = len,\n",
    "    )\n",
    "    texts = text_splitter.split_text(raw_text)\n",
    "    embeddings = OpenAIEmbeddings()\n",
    "    document_search = FAISS.from_texts(texts, embeddings)\n",
    "    chain = load_qa_chain(OpenAI(),chain_type=\"stuff\")\n",
    "    query = \"Analyze and summarize the whole resume, explain every section with points\"\n",
    "    docs = document_search.similarity_search(query)\n",
    "    content = chain.run(input_documents=docs,question=query)\n",
    "    print(content)\n",
    "    \n",
    "get_summary_from_file(\"Haris_Ellahi_Resume.pdf\")"
   ]
  },
  {
   "cell_type": "code",
   "execution_count": 89,
   "id": "5b0d15c7",
   "metadata": {},
   "outputs": [
    {
     "name": "stdout",
     "output_type": "stream",
     "text": [
      "\n",
      "\n",
      "1. Can you walk me through your experience with software development and design documentation? \n",
      "2. How do you approach creating test methods and plans for software projects? \n",
      "3. Can you provide an example of a time when you proactively identified and resolved an operational issue post-implementation? \n",
      "4. How do you stay updated on industry standards and regulations related to Quality Management? \n",
      "5. Can you tell me about a successful collaboration experience with stakeholders in a software development project? \n",
      "6. How do you handle and prioritize bug reports during the software development life cycle? \n",
      "7. Can you share a specific tool or process you have implemented to improve testing efficiency and accuracy? \n",
      "8. How do you ensure compliance with quality standards while also meeting project deadlines? \n",
      "9. Can you walk me through your experience with verifying fixture software and facilitating transitions from testing to production? \n",
      "10. How do you handle conflicts or disagreements related to quality issues with team members or stakeholders?\n"
     ]
    }
   ],
   "source": [
    "from langchain.prompts import PromptTemplate\n",
    "from langchain.chains import LLMChain\n",
    "from langchain.memory import ConversationBufferMemory\n",
    "\n",
    "memory = ConversationBufferMemory()\n",
    "# get questions based on job description\n",
    "job_desc = \"\"\"Ensure accuracy and clarity of product design documentation, recommending improvements throughout development for better outcomes.\n",
    "    Establish test methods and craft comprehensive plans for software projects, assessing performance under various conditions to guarantee reliability.\n",
    "    Proactively monitor program performance post-implementation, preventing operational issues from recurring, ensuring seamless operation.\n",
    "    Actively engage in the software development life cycle, promptly reporting and resolving bugs to maintain project integrity.\n",
    "    Ensure compliance with Quality Management systems and standards, while also developing tools to enhance testing efficiency and accuracy.\n",
    "    Provide support by verifying fixture software, facilitate transitions from testing to production, collaborate with stakeholders, resolving quality issues promptly to uphold standards and safety.\"\"\"\n",
    "\n",
    "prompt_template_name = PromptTemplate(\n",
    "    input_variables = ['job_description'],\n",
    "    template = \"{job_description} \\n based on job description write some questions that will help me in interview\"\n",
    ")\n",
    "chain = LLMChain(llm = llm,prompt=prompt_template_name, memory=memory)\n",
    "content = chain.run(job_desc)\n",
    "print(content)"
   ]
  },
  {
   "cell_type": "code",
   "execution_count": null,
   "id": "acbd78e9",
   "metadata": {},
   "outputs": [],
   "source": []
  }
 ],
 "metadata": {
  "kernelspec": {
   "display_name": "Python 3 (ipykernel)",
   "language": "python",
   "name": "python3"
  },
  "language_info": {
   "codemirror_mode": {
    "name": "ipython",
    "version": 3
   },
   "file_extension": ".py",
   "mimetype": "text/x-python",
   "name": "python",
   "nbconvert_exporter": "python",
   "pygments_lexer": "ipython3",
   "version": "3.10.9"
  }
 },
 "nbformat": 4,
 "nbformat_minor": 5
}
